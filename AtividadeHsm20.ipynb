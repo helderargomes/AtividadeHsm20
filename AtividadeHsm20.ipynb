{
  "nbformat": 4,
  "nbformat_minor": 0,
  "metadata": {
    "colab": {
      "provenance": [],
      "collapsed_sections": []
    },
    "kernelspec": {
      "name": "python3",
      "display_name": "Python 3"
    },
    "language_info": {
      "name": "python"
    }
  },
  "cells": [
    {
      "cell_type": "code",
      "execution_count": 30,
      "metadata": {
        "id": "4wpU24_q4cOC"
      },
      "outputs": [],
      "source": [
        "# Importando as bibliotecas\n",
        "import pandas as pd\n",
        "from sklearn import datasets\n",
        "from sklearn.model_selection import train_test_split\n",
        "from sklearn.model_selection import KFold"
      ]
    },
    {
      "cell_type": "code",
      "source": [
        "# Importando o dataset a partir da biblioteca datasets do scikit-learn\n",
        "iris = datasets.load_iris()"
      ],
      "metadata": {
        "id": "umen4oXoGgX6"
      },
      "execution_count": 25,
      "outputs": []
    },
    {
      "cell_type": "code",
      "source": [
        "# Criando o dataframe a partir dos dados importados\n",
        "db = pd.DataFrame(iris.data, columns=iris.feature_names)"
      ],
      "metadata": {
        "id": "mTPRTEd0HHXQ"
      },
      "execution_count": 19,
      "outputs": []
    },
    {
      "cell_type": "code",
      "source": [
        "# Verificando se a criação do dataframe funcionou\n",
        "db.head()"
      ],
      "metadata": {
        "id": "t1kJqWfPHam9"
      },
      "execution_count": null,
      "outputs": []
    },
    {
      "cell_type": "code",
      "source": [
        "# Separando os conjuntos de teste e treinamento com base na estratégia hold-out, com 25% dos dados para o banco de teste, e 75% dos dados para o banco de treinamento.\n",
        "db_train, db_test = train_test_split(db, test_size=0.25)"
      ],
      "metadata": {
        "id": "SssuYHgdI6o_"
      },
      "execution_count": 27,
      "outputs": []
    },
    {
      "cell_type": "code",
      "source": [
        "db_train"
      ],
      "metadata": {
        "id": "mfWY19nqLjxH"
      },
      "execution_count": null,
      "outputs": []
    },
    {
      "cell_type": "code",
      "source": [
        "db_test"
      ],
      "metadata": {
        "id": "Zflw4zwwLqwd"
      },
      "execution_count": null,
      "outputs": []
    },
    {
      "cell_type": "code",
      "source": [
        "# Iniciando a separação do conjunto de dados com base na estratégia de cross-validation.\n",
        "cv = KFold(n_splits=5)"
      ],
      "metadata": {
        "id": "c2zmMxvxNJyt"
      },
      "execution_count": 31,
      "outputs": []
    },
    {
      "cell_type": "code",
      "source": [
        "cv.get_n_splits(db)"
      ],
      "metadata": {
        "colab": {
          "base_uri": "https://localhost:8080/"
        },
        "id": "-QPIT95MNcu6",
        "outputId": "e0b6b5d0-ab16-4850-a8c6-7a12c1dea3e3"
      },
      "execution_count": 32,
      "outputs": [
        {
          "output_type": "execute_result",
          "data": {
            "text/plain": [
              "5"
            ]
          },
          "metadata": {},
          "execution_count": 32
        }
      ]
    },
    {
      "cell_type": "code",
      "source": [
        "# Obtendo os índices dos grupos de teste e treinamento.\n",
        "for train_index, test_index in cv.split(db):\n",
        "  print(\"Train: \", train_index, \"Test: \", test_index)"
      ],
      "metadata": {
        "id": "1D_pST0zNwhR"
      },
      "execution_count": null,
      "outputs": []
    }
  ]
}